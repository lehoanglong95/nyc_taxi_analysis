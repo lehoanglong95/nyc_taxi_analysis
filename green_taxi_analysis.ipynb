{
 "cells": [
  {
   "cell_type": "markdown",
   "metadata": {},
   "source": [
    "Utilizing historical taxi trip data sourced from the NYC Taxi and Limousine Commission (TLC), spanning January 2021 to August 2022, our project aims to analyze payment methods and assess car demand trends over the specified timeframe.\n",
    "\n",
    "Through rigorous data exploration, cleansing processes, and the application of advanced analytical techniques and visualization tools, we seek to uncover valuable insights into payment preferences and fluctuations in car demand within the specified period.\n",
    "\n",
    "To commence our analysis, we'll begin by importing the necessary libraries and uploading the dataset for further examination."
   ]
  },
  {
   "cell_type": "code",
   "execution_count": 1,
   "metadata": {
    "ExecuteTime": {
     "end_time": "2024-03-09T22:41:41.094786Z",
     "start_time": "2024-03-09T22:41:40.086775Z"
    },
    "collapsed": false,
    "jupyter": {
     "outputs_hidden": false
    }
   },
   "outputs": [],
   "source": [
    "import pandas as pd\n",
    "import matplotlib.pyplot as plt\n",
    "import os\n",
    "from pandasql import sqldf"
   ]
  },
  {
   "cell_type": "markdown",
   "metadata": {},
   "source": [
    "## Load Data"
   ]
  },
  {
   "cell_type": "code",
   "execution_count": 2,
   "metadata": {
    "ExecuteTime": {
     "end_time": "2024-03-09T22:41:41.125270Z",
     "start_time": "2024-03-09T22:41:41.096475Z"
    },
    "collapsed": false,
    "jupyter": {
     "outputs_hidden": false
    }
   },
   "outputs": [],
   "source": [
    "taxi_zone = pd.read_csv(\"./raw/taxi_zone.csv\")\n",
    "calendar = pd.read_csv(\"./raw/calendar.csv\")\n",
    "vendor = pd.read_csv(\"./raw/vendor.csv\")\n",
    "trip_type = pd.read_csv(\"./raw/trip_type.tsv\", sep=\"\\t\")\n",
    "payment_type = pd.read_json(\"./raw/payment_type.json\", lines=True)"
   ]
  },
  {
   "cell_type": "code",
   "execution_count": 3,
   "metadata": {
    "ExecuteTime": {
     "end_time": "2024-03-09T22:41:41.369681Z",
     "start_time": "2024-03-09T22:41:41.357050Z"
    },
    "collapsed": false,
    "jupyter": {
     "outputs_hidden": false
    }
   },
   "outputs": [
    {
     "data": {
      "text/html": [
       "<div>\n",
       "<style scoped>\n",
       "    .dataframe tbody tr th:only-of-type {\n",
       "        vertical-align: middle;\n",
       "    }\n",
       "\n",
       "    .dataframe tbody tr th {\n",
       "        vertical-align: top;\n",
       "    }\n",
       "\n",
       "    .dataframe thead th {\n",
       "        text-align: right;\n",
       "    }\n",
       "</style>\n",
       "<table border=\"1\" class=\"dataframe\">\n",
       "  <thead>\n",
       "    <tr style=\"text-align: right;\">\n",
       "      <th></th>\n",
       "      <th>LocationID</th>\n",
       "      <th>Borough</th>\n",
       "      <th>Zone</th>\n",
       "      <th>service_zone</th>\n",
       "    </tr>\n",
       "  </thead>\n",
       "  <tbody>\n",
       "    <tr>\n",
       "      <td>0</td>\n",
       "      <td>1</td>\n",
       "      <td>EWR</td>\n",
       "      <td>Newark Airport</td>\n",
       "      <td>EWR</td>\n",
       "    </tr>\n",
       "    <tr>\n",
       "      <td>1</td>\n",
       "      <td>2</td>\n",
       "      <td>Queens</td>\n",
       "      <td>Jamaica Bay</td>\n",
       "      <td>Boro Zone</td>\n",
       "    </tr>\n",
       "  </tbody>\n",
       "</table>\n",
       "</div>"
      ],
      "text/plain": [
       "   LocationID Borough            Zone service_zone\n",
       "0           1     EWR  Newark Airport          EWR\n",
       "1           2  Queens     Jamaica Bay    Boro Zone"
      ]
     },
     "execution_count": 3,
     "metadata": {},
     "output_type": "execute_result"
    }
   ],
   "source": [
    "taxi_zone.head(2)"
   ]
  },
  {
   "cell_type": "code",
   "execution_count": 4,
   "metadata": {
    "ExecuteTime": {
     "end_time": "2024-03-09T22:41:41.598563Z",
     "start_time": "2024-03-09T22:41:41.583447Z"
    },
    "collapsed": false,
    "jupyter": {
     "outputs_hidden": false
    }
   },
   "outputs": [
    {
     "data": {
      "text/html": [
       "<div>\n",
       "<style scoped>\n",
       "    .dataframe tbody tr th:only-of-type {\n",
       "        vertical-align: middle;\n",
       "    }\n",
       "\n",
       "    .dataframe tbody tr th {\n",
       "        vertical-align: top;\n",
       "    }\n",
       "\n",
       "    .dataframe thead th {\n",
       "        text-align: right;\n",
       "    }\n",
       "</style>\n",
       "<table border=\"1\" class=\"dataframe\">\n",
       "  <thead>\n",
       "    <tr style=\"text-align: right;\">\n",
       "      <th></th>\n",
       "      <th>date_key</th>\n",
       "      <th>date</th>\n",
       "      <th>year</th>\n",
       "      <th>month</th>\n",
       "      <th>day</th>\n",
       "      <th>day_name</th>\n",
       "      <th>day_of_year</th>\n",
       "      <th>week_of_month</th>\n",
       "      <th>week_of_year</th>\n",
       "      <th>month_name</th>\n",
       "      <th>year_month</th>\n",
       "      <th>year_week</th>\n",
       "    </tr>\n",
       "  </thead>\n",
       "  <tbody>\n",
       "    <tr>\n",
       "      <td>0</td>\n",
       "      <td>20200101</td>\n",
       "      <td>2020-01-01</td>\n",
       "      <td>2020</td>\n",
       "      <td>1</td>\n",
       "      <td>1</td>\n",
       "      <td>Wednesday</td>\n",
       "      <td>1</td>\n",
       "      <td>1</td>\n",
       "      <td>1</td>\n",
       "      <td>January</td>\n",
       "      <td>202001</td>\n",
       "      <td>202001</td>\n",
       "    </tr>\n",
       "    <tr>\n",
       "      <td>1</td>\n",
       "      <td>20200102</td>\n",
       "      <td>2020-01-02</td>\n",
       "      <td>2020</td>\n",
       "      <td>1</td>\n",
       "      <td>2</td>\n",
       "      <td>Thursday</td>\n",
       "      <td>2</td>\n",
       "      <td>1</td>\n",
       "      <td>1</td>\n",
       "      <td>January</td>\n",
       "      <td>202001</td>\n",
       "      <td>202001</td>\n",
       "    </tr>\n",
       "  </tbody>\n",
       "</table>\n",
       "</div>"
      ],
      "text/plain": [
       "   date_key        date  year  month  day   day_name  day_of_year  \\\n",
       "0  20200101  2020-01-01  2020      1    1  Wednesday            1   \n",
       "1  20200102  2020-01-02  2020      1    2   Thursday            2   \n",
       "\n",
       "   week_of_month  week_of_year month_name  year_month  year_week  \n",
       "0              1             1    January      202001     202001  \n",
       "1              1             1    January      202001     202001  "
      ]
     },
     "execution_count": 4,
     "metadata": {},
     "output_type": "execute_result"
    }
   ],
   "source": [
    "calendar.head(2)"
   ]
  },
  {
   "cell_type": "code",
   "execution_count": 5,
   "metadata": {
    "ExecuteTime": {
     "end_time": "2024-03-09T22:41:41.781139Z",
     "start_time": "2024-03-09T22:41:41.770718Z"
    },
    "collapsed": false,
    "jupyter": {
     "outputs_hidden": false
    }
   },
   "outputs": [
    {
     "data": {
      "text/html": [
       "<div>\n",
       "<style scoped>\n",
       "    .dataframe tbody tr th:only-of-type {\n",
       "        vertical-align: middle;\n",
       "    }\n",
       "\n",
       "    .dataframe tbody tr th {\n",
       "        vertical-align: top;\n",
       "    }\n",
       "\n",
       "    .dataframe thead th {\n",
       "        text-align: right;\n",
       "    }\n",
       "</style>\n",
       "<table border=\"1\" class=\"dataframe\">\n",
       "  <thead>\n",
       "    <tr style=\"text-align: right;\">\n",
       "      <th></th>\n",
       "      <th>vendor_id</th>\n",
       "      <th>vendor_name</th>\n",
       "    </tr>\n",
       "  </thead>\n",
       "  <tbody>\n",
       "    <tr>\n",
       "      <td>0</td>\n",
       "      <td>1</td>\n",
       "      <td>Creative Mobile Technologies, LLC</td>\n",
       "    </tr>\n",
       "    <tr>\n",
       "      <td>1</td>\n",
       "      <td>2</td>\n",
       "      <td>VeriFone Inc</td>\n",
       "    </tr>\n",
       "  </tbody>\n",
       "</table>\n",
       "</div>"
      ],
      "text/plain": [
       "   vendor_id                        vendor_name\n",
       "0          1  Creative Mobile Technologies, LLC\n",
       "1          2                       VeriFone Inc"
      ]
     },
     "execution_count": 5,
     "metadata": {},
     "output_type": "execute_result"
    }
   ],
   "source": [
    "vendor.head(2)"
   ]
  },
  {
   "cell_type": "code",
   "execution_count": 6,
   "metadata": {
    "ExecuteTime": {
     "end_time": "2024-03-09T22:41:41.937799Z",
     "start_time": "2024-03-09T22:41:41.928048Z"
    },
    "collapsed": false,
    "jupyter": {
     "outputs_hidden": false
    }
   },
   "outputs": [
    {
     "data": {
      "text/html": [
       "<div>\n",
       "<style scoped>\n",
       "    .dataframe tbody tr th:only-of-type {\n",
       "        vertical-align: middle;\n",
       "    }\n",
       "\n",
       "    .dataframe tbody tr th {\n",
       "        vertical-align: top;\n",
       "    }\n",
       "\n",
       "    .dataframe thead th {\n",
       "        text-align: right;\n",
       "    }\n",
       "</style>\n",
       "<table border=\"1\" class=\"dataframe\">\n",
       "  <thead>\n",
       "    <tr style=\"text-align: right;\">\n",
       "      <th></th>\n",
       "      <th>trip_type</th>\n",
       "      <th>trip_type_desc</th>\n",
       "    </tr>\n",
       "  </thead>\n",
       "  <tbody>\n",
       "    <tr>\n",
       "      <td>0</td>\n",
       "      <td>1</td>\n",
       "      <td>Street-hail</td>\n",
       "    </tr>\n",
       "    <tr>\n",
       "      <td>1</td>\n",
       "      <td>2</td>\n",
       "      <td>Dispatch</td>\n",
       "    </tr>\n",
       "  </tbody>\n",
       "</table>\n",
       "</div>"
      ],
      "text/plain": [
       "   trip_type trip_type_desc\n",
       "0          1    Street-hail\n",
       "1          2       Dispatch"
      ]
     },
     "execution_count": 6,
     "metadata": {},
     "output_type": "execute_result"
    }
   ],
   "source": [
    "trip_type.head(2)"
   ]
  },
  {
   "cell_type": "markdown",
   "metadata": {},
   "source": [
    "## Transform Data"
   ]
  },
  {
   "cell_type": "code",
   "execution_count": 7,
   "metadata": {
    "ExecuteTime": {
     "end_time": "2024-03-09T22:41:42.204458Z",
     "start_time": "2024-03-09T22:41:42.199219Z"
    },
    "collapsed": false,
    "jupyter": {
     "outputs_hidden": false
    }
   },
   "outputs": [],
   "source": [
    "payment_type.rename(columns={\"payment_type_desc\": \"description\"}, inplace=True)"
   ]
  },
  {
   "cell_type": "code",
   "execution_count": 8,
   "metadata": {
    "ExecuteTime": {
     "end_time": "2024-03-09T22:41:49.984985Z",
     "start_time": "2024-03-09T22:41:42.349086Z"
    },
    "collapsed": false,
    "jupyter": {
     "outputs_hidden": false
    }
   },
   "outputs": [
    {
     "name": "stderr",
     "output_type": "stream",
     "text": [
      "/Users/LongLH/anaconda3/lib/python3.7/site-packages/IPython/core/interactiveshell.py:3249: DtypeWarning: Columns (3) have mixed types. Specify dtype option on import or set low_memory=False.\n",
      "  if (await self.run_code(code, result,  async_=asy)):\n"
     ]
    }
   ],
   "source": [
    "# function to read all trip data from folder trip_data_green_csv\n",
    "def read_trip_data():\n",
    "    dfs = []\n",
    "    for year_dir in os.listdir(\"./raw/trip_data_green_csv\"):\n",
    "        if year_dir.startswith('year='):\n",
    "            # Path to the year directory\n",
    "            year_path = os.path.join(\"./raw/trip_data_green_csv\", year_dir)\n",
    "\n",
    "            # Iterate over the directories for each month\n",
    "            for month_dir in os.listdir(year_path):\n",
    "                # Path to the month directory\n",
    "                if month_dir == \".DS_Store\":\n",
    "                    continue\n",
    "                month_path = os.path.join(year_path, month_dir)\n",
    "\n",
    "                # Iterate over the files in the month directory\n",
    "                for file in os.listdir(month_path):\n",
    "                    # Check if the file is a CSV file\n",
    "                    if file.endswith('.csv'):\n",
    "                        # Path to the CSV file\n",
    "                        file_path = os.path.join(month_path, file)\n",
    "\n",
    "                        # Read the CSV file into a DataFrame\n",
    "                        df = pd.read_csv(file_path)\n",
    "\n",
    "                        # Append the DataFrame to the list\n",
    "                        dfs.append(df)\n",
    "    return pd.concat(dfs, ignore_index=True)\n",
    "trip_data = read_trip_data()"
   ]
  },
  {
   "cell_type": "code",
   "execution_count": 9,
   "metadata": {
    "ExecuteTime": {
     "end_time": "2024-03-09T22:41:50.007799Z",
     "start_time": "2024-03-09T22:41:49.988047Z"
    },
    "collapsed": false,
    "jupyter": {
     "outputs_hidden": false
    }
   },
   "outputs": [
    {
     "data": {
      "text/html": [
       "<div>\n",
       "<style scoped>\n",
       "    .dataframe tbody tr th:only-of-type {\n",
       "        vertical-align: middle;\n",
       "    }\n",
       "\n",
       "    .dataframe tbody tr th {\n",
       "        vertical-align: top;\n",
       "    }\n",
       "\n",
       "    .dataframe thead th {\n",
       "        text-align: right;\n",
       "    }\n",
       "</style>\n",
       "<table border=\"1\" class=\"dataframe\">\n",
       "  <thead>\n",
       "    <tr style=\"text-align: right;\">\n",
       "      <th></th>\n",
       "      <th>VendorID</th>\n",
       "      <th>lpep_pickup_datetime</th>\n",
       "      <th>lpep_dropoff_datetime</th>\n",
       "      <th>store_and_fwd_flag</th>\n",
       "      <th>RatecodeID</th>\n",
       "      <th>PULocationID</th>\n",
       "      <th>DOLocationID</th>\n",
       "      <th>passenger_count</th>\n",
       "      <th>trip_distance</th>\n",
       "      <th>fare_amount</th>\n",
       "      <th>extra</th>\n",
       "      <th>mta_tax</th>\n",
       "      <th>tip_amount</th>\n",
       "      <th>tolls_amount</th>\n",
       "      <th>ehail_fee</th>\n",
       "      <th>improvement_surcharge</th>\n",
       "      <th>total_amount</th>\n",
       "      <th>payment_type</th>\n",
       "      <th>trip_type</th>\n",
       "      <th>congestion_surcharge</th>\n",
       "    </tr>\n",
       "  </thead>\n",
       "  <tbody>\n",
       "    <tr>\n",
       "      <td>0</td>\n",
       "      <td>2.0</td>\n",
       "      <td>2020-03-01 00:20:18</td>\n",
       "      <td>2020-03-01 00:45:29</td>\n",
       "      <td>N</td>\n",
       "      <td>1.0</td>\n",
       "      <td>41</td>\n",
       "      <td>13</td>\n",
       "      <td>1.0</td>\n",
       "      <td>8.24</td>\n",
       "      <td>26.5</td>\n",
       "      <td>0.5</td>\n",
       "      <td>0.5</td>\n",
       "      <td>7.64</td>\n",
       "      <td>0.0</td>\n",
       "      <td>NaN</td>\n",
       "      <td>0.3</td>\n",
       "      <td>38.19</td>\n",
       "      <td>1.0</td>\n",
       "      <td>1.0</td>\n",
       "      <td>2.75</td>\n",
       "    </tr>\n",
       "    <tr>\n",
       "      <td>1</td>\n",
       "      <td>2.0</td>\n",
       "      <td>2020-03-01 00:15:42</td>\n",
       "      <td>2020-03-01 00:44:36</td>\n",
       "      <td>N</td>\n",
       "      <td>1.0</td>\n",
       "      <td>181</td>\n",
       "      <td>107</td>\n",
       "      <td>1.0</td>\n",
       "      <td>4.87</td>\n",
       "      <td>21.0</td>\n",
       "      <td>0.5</td>\n",
       "      <td>0.5</td>\n",
       "      <td>0.00</td>\n",
       "      <td>0.0</td>\n",
       "      <td>NaN</td>\n",
       "      <td>0.3</td>\n",
       "      <td>25.05</td>\n",
       "      <td>2.0</td>\n",
       "      <td>1.0</td>\n",
       "      <td>2.75</td>\n",
       "    </tr>\n",
       "  </tbody>\n",
       "</table>\n",
       "</div>"
      ],
      "text/plain": [
       "   VendorID lpep_pickup_datetime lpep_dropoff_datetime store_and_fwd_flag  \\\n",
       "0       2.0  2020-03-01 00:20:18   2020-03-01 00:45:29                  N   \n",
       "1       2.0  2020-03-01 00:15:42   2020-03-01 00:44:36                  N   \n",
       "\n",
       "   RatecodeID  PULocationID  DOLocationID  passenger_count  trip_distance  \\\n",
       "0         1.0            41            13              1.0           8.24   \n",
       "1         1.0           181           107              1.0           4.87   \n",
       "\n",
       "   fare_amount  extra  mta_tax  tip_amount  tolls_amount  ehail_fee  \\\n",
       "0         26.5    0.5      0.5        7.64           0.0        NaN   \n",
       "1         21.0    0.5      0.5        0.00           0.0        NaN   \n",
       "\n",
       "   improvement_surcharge  total_amount  payment_type  trip_type  \\\n",
       "0                    0.3         38.19           1.0        1.0   \n",
       "1                    0.3         25.05           2.0        1.0   \n",
       "\n",
       "   congestion_surcharge  \n",
       "0                  2.75  \n",
       "1                  2.75  "
      ]
     },
     "execution_count": 9,
     "metadata": {},
     "output_type": "execute_result"
    }
   ],
   "source": [
    "trip_data.head(2)"
   ]
  },
  {
   "cell_type": "code",
   "execution_count": 10,
   "metadata": {
    "ExecuteTime": {
     "end_time": "2024-03-09T22:41:51.118799Z",
     "start_time": "2024-03-09T22:41:50.010922Z"
    },
    "collapsed": false,
    "jupyter": {
     "outputs_hidden": false
    }
   },
   "outputs": [],
   "source": [
    "trip_data[\"lpep_pickup_datetime\"] = pd.to_datetime(trip_data[\"lpep_pickup_datetime\"])\n",
    "trip_data[\"lpep_dropoff_datetime\"] = pd.to_datetime(trip_data[\"lpep_dropoff_datetime\"])"
   ]
  },
  {
   "cell_type": "code",
   "execution_count": 11,
   "metadata": {
    "ExecuteTime": {
     "end_time": "2024-03-09T22:41:52.728980Z",
     "start_time": "2024-03-09T22:41:51.124220Z"
    },
    "collapsed": false,
    "jupyter": {
     "outputs_hidden": false
    }
   },
   "outputs": [],
   "source": [
    "trip_data[\"trip_duration\"] = (trip_data[\"lpep_dropoff_datetime\"] -  trip_data[\"lpep_pickup_datetime\"]).dt.total_seconds() / 60"
   ]
  },
  {
   "cell_type": "code",
   "execution_count": 12,
   "metadata": {
    "ExecuteTime": {
     "end_time": "2024-03-09T22:41:52.913634Z",
     "start_time": "2024-03-09T22:41:52.730788Z"
    },
    "collapsed": false,
    "jupyter": {
     "outputs_hidden": false
    }
   },
   "outputs": [],
   "source": [
    "trip_data[\"year\"] = trip_data['lpep_pickup_datetime'].dt.year\n",
    "trip_data[\"month\"] = trip_data['lpep_pickup_datetime'].dt.month"
   ]
  },
  {
   "cell_type": "code",
   "execution_count": 13,
   "metadata": {
    "ExecuteTime": {
     "end_time": "2024-03-09T22:41:53.668862Z",
     "start_time": "2024-03-09T22:41:52.915003Z"
    },
    "collapsed": false,
    "jupyter": {
     "outputs_hidden": false
    }
   },
   "outputs": [],
   "source": [
    "trip_data[\"trip_date\"] = trip_data[\"lpep_pickup_datetime\"].dt.date"
   ]
  },
  {
   "cell_type": "code",
   "execution_count": 14,
   "metadata": {
    "ExecuteTime": {
     "end_time": "2024-03-09T22:41:55.217123Z",
     "start_time": "2024-03-09T22:41:53.672846Z"
    },
    "collapsed": false,
    "jupyter": {
     "outputs_hidden": false
    }
   },
   "outputs": [],
   "source": [
    "trip_data.rename(columns={\"VendorID\": \"vendor_id\", \"RatecodeID\": \"rate_code_id\", \"PULocationID\": \"pu_location_id\", \"DOLocationID\": \"do_location_id\"}, inplace=True)"
   ]
  },
  {
   "cell_type": "code",
   "execution_count": 15,
   "metadata": {
    "ExecuteTime": {
     "end_time": "2024-03-09T22:41:55.234393Z",
     "start_time": "2024-03-09T22:41:55.227395Z"
    },
    "collapsed": false,
    "jupyter": {
     "outputs_hidden": false
    }
   },
   "outputs": [],
   "source": [
    "taxi_zone.rename(columns={\"LocationID\": \"location_id\", \"Borough\": \"borough\", \"Zone\": \"zone\"}, inplace=True)"
   ]
  },
  {
   "cell_type": "code",
   "execution_count": 16,
   "metadata": {
    "ExecuteTime": {
     "end_time": "2024-03-09T22:41:55.244924Z",
     "start_time": "2024-03-09T22:41:55.239558Z"
    },
    "collapsed": false,
    "jupyter": {
     "outputs_hidden": false
    }
   },
   "outputs": [
    {
     "data": {
      "text/plain": [
       "Index(['date_key', 'date', 'year', 'month', 'day', 'day_name', 'day_of_year',\n",
       "       'week_of_month', 'week_of_year', 'month_name', 'year_month',\n",
       "       'year_week'],\n",
       "      dtype='object')"
      ]
     },
     "execution_count": 16,
     "metadata": {},
     "output_type": "execute_result"
    }
   ],
   "source": [
    "calendar.columns"
   ]
  },
  {
   "cell_type": "code",
   "execution_count": 17,
   "metadata": {
    "ExecuteTime": {
     "end_time": "2024-03-09T22:41:55.254383Z",
     "start_time": "2024-03-09T22:41:55.247784Z"
    },
    "collapsed": false,
    "jupyter": {
     "outputs_hidden": false
    }
   },
   "outputs": [
    {
     "data": {
      "text/plain": [
       "Index(['payment_type', 'description'], dtype='object')"
      ]
     },
     "execution_count": 17,
     "metadata": {},
     "output_type": "execute_result"
    }
   ],
   "source": [
    "payment_type.columns"
   ]
  },
  {
   "cell_type": "code",
   "execution_count": 18,
   "metadata": {
    "ExecuteTime": {
     "end_time": "2024-03-09T22:41:55.263447Z",
     "start_time": "2024-03-09T22:41:55.256889Z"
    },
    "collapsed": false,
    "jupyter": {
     "outputs_hidden": false
    }
   },
   "outputs": [
    {
     "data": {
      "text/plain": [
       "Index(['trip_type', 'trip_type_desc'], dtype='object')"
      ]
     },
     "execution_count": 18,
     "metadata": {},
     "output_type": "execute_result"
    }
   ],
   "source": [
    "trip_type.columns"
   ]
  },
  {
   "cell_type": "markdown",
   "metadata": {},
   "source": [
    "## Aggregate Data"
   ]
  },
  {
   "cell_type": "code",
   "execution_count": 19,
   "metadata": {
    "ExecuteTime": {
     "end_time": "2024-03-09T22:44:41.998835Z",
     "start_time": "2024-03-09T22:41:55.265142Z"
    },
    "collapsed": false,
    "jupyter": {
     "outputs_hidden": false
    }
   },
   "outputs": [],
   "source": [
    "result_dominant_teams = sqldf(\"\"\"\n",
    "SELECT td.year,\n",
    "       td.month,\n",
    "       tz.borough,\n",
    "       td.trip_date,\n",
    "       cal.day_name AS trip_day,\n",
    "       CASE WHEN cal.day_name IN ('Saturday','Sunday') THEN 'Y' ELSE 'N' END AS trip_day_weekend_ind,\n",
    "       SUM(CASE WHEN pt.description = 'Credit card' THEN 1 ELSE 0 END) AS card_trip_count,\n",
    "       SUM(CASE WHEN pt.description = 'Cash' THEN 1 ELSE 0 END) AS cash_trip_count,\n",
    "       SUM(CASE WHEN tt.trip_type_desc = 'Street-hail' THEN 1 ELSE 0 END) AS street_hail_trip_count,\n",
    "       SUM(CASE WHEN tt.trip_type_desc = 'Dispatch' THEN 1 ELSE 0 END) AS dispatch_trip_count ,\n",
    "       SUM(td.trip_distance) AS trip_distance,\n",
    "       SUM(td.trip_duration) AS trip_duration,\n",
    "       SUM(td.fare_amount) AS fare_amount\n",
    "  FROM trip_data td\n",
    "  JOIN taxi_zone tz ON (td.pu_location_id = tz.location_id)\n",
    "  JOIN calendar cal ON (cal.date = td.trip_date)\n",
    "  JOIN payment_type pt ON (td.payment_type = pt.payment_type)\n",
    "  JOIN trip_type tt ON (td.trip_type = tt.trip_type)\n",
    "GROUP BY td.year,\n",
    "       td.month,\n",
    "       tz.borough,\n",
    "       td.trip_date,\n",
    "       cal.day_name;\n",
    "\"\"\")"
   ]
  },
  {
   "cell_type": "code",
   "execution_count": 20,
   "metadata": {
    "ExecuteTime": {
     "end_time": "2024-03-09T22:44:42.026470Z",
     "start_time": "2024-03-09T22:44:42.004159Z"
    },
    "collapsed": false,
    "jupyter": {
     "outputs_hidden": false
    }
   },
   "outputs": [
    {
     "data": {
      "text/html": [
       "<div>\n",
       "<style scoped>\n",
       "    .dataframe tbody tr th:only-of-type {\n",
       "        vertical-align: middle;\n",
       "    }\n",
       "\n",
       "    .dataframe tbody tr th {\n",
       "        vertical-align: top;\n",
       "    }\n",
       "\n",
       "    .dataframe thead th {\n",
       "        text-align: right;\n",
       "    }\n",
       "</style>\n",
       "<table border=\"1\" class=\"dataframe\">\n",
       "  <thead>\n",
       "    <tr style=\"text-align: right;\">\n",
       "      <th></th>\n",
       "      <th>year</th>\n",
       "      <th>month</th>\n",
       "      <th>borough</th>\n",
       "      <th>trip_date</th>\n",
       "      <th>trip_day</th>\n",
       "      <th>trip_day_weekend_ind</th>\n",
       "      <th>card_trip_count</th>\n",
       "      <th>cash_trip_count</th>\n",
       "      <th>street_hail_trip_count</th>\n",
       "      <th>dispatch_trip_count</th>\n",
       "      <th>trip_distance</th>\n",
       "      <th>trip_duration</th>\n",
       "      <th>fare_amount</th>\n",
       "    </tr>\n",
       "  </thead>\n",
       "  <tbody>\n",
       "    <tr>\n",
       "      <td>0</td>\n",
       "      <td>2020</td>\n",
       "      <td>1</td>\n",
       "      <td>Bronx</td>\n",
       "      <td>2020-01-01</td>\n",
       "      <td>Wednesday</td>\n",
       "      <td>N</td>\n",
       "      <td>137</td>\n",
       "      <td>209</td>\n",
       "      <td>293</td>\n",
       "      <td>56</td>\n",
       "      <td>1482.37</td>\n",
       "      <td>6326.933333</td>\n",
       "      <td>5955.61</td>\n",
       "    </tr>\n",
       "    <tr>\n",
       "      <td>1</td>\n",
       "      <td>2020</td>\n",
       "      <td>1</td>\n",
       "      <td>Bronx</td>\n",
       "      <td>2020-01-02</td>\n",
       "      <td>Thursday</td>\n",
       "      <td>N</td>\n",
       "      <td>191</td>\n",
       "      <td>178</td>\n",
       "      <td>329</td>\n",
       "      <td>45</td>\n",
       "      <td>1461.77</td>\n",
       "      <td>7641.266667</td>\n",
       "      <td>6050.78</td>\n",
       "    </tr>\n",
       "  </tbody>\n",
       "</table>\n",
       "</div>"
      ],
      "text/plain": [
       "   year  month borough   trip_date   trip_day trip_day_weekend_ind  \\\n",
       "0  2020      1   Bronx  2020-01-01  Wednesday                    N   \n",
       "1  2020      1   Bronx  2020-01-02   Thursday                    N   \n",
       "\n",
       "   card_trip_count  cash_trip_count  street_hail_trip_count  \\\n",
       "0              137              209                     293   \n",
       "1              191              178                     329   \n",
       "\n",
       "   dispatch_trip_count  trip_distance  trip_duration  fare_amount  \n",
       "0                   56        1482.37    6326.933333      5955.61  \n",
       "1                   45        1461.77    7641.266667      6050.78  "
      ]
     },
     "execution_count": 20,
     "metadata": {},
     "output_type": "execute_result"
    }
   ],
   "source": [
    "result_dominant_teams.head(2)"
   ]
  },
  {
   "cell_type": "code",
   "execution_count": 21,
   "metadata": {
    "ExecuteTime": {
     "end_time": "2024-03-09T22:44:42.034855Z",
     "start_time": "2024-03-09T22:44:42.028269Z"
    },
    "collapsed": false,
    "jupyter": {
     "outputs_hidden": false
    }
   },
   "outputs": [
    {
     "data": {
      "text/plain": [
       "Index(['year', 'month', 'borough', 'trip_date', 'trip_day',\n",
       "       'trip_day_weekend_ind', 'card_trip_count', 'cash_trip_count',\n",
       "       'street_hail_trip_count', 'dispatch_trip_count', 'trip_distance',\n",
       "       'trip_duration', 'fare_amount'],\n",
       "      dtype='object')"
      ]
     },
     "execution_count": 21,
     "metadata": {},
     "output_type": "execute_result"
    }
   ],
   "source": [
    "result_dominant_teams.columns"
   ]
  },
  {
   "cell_type": "markdown",
   "metadata": {},
   "source": [
    "## Visualization"
   ]
  },
  {
   "cell_type": "markdown",
   "metadata": {},
   "source": [
    "### Payment Type Report"
   ]
  },
  {
   "cell_type": "code",
   "execution_count": 22,
   "metadata": {
    "ExecuteTime": {
     "end_time": "2024-03-14T00:28:11.461054Z",
     "start_time": "2024-03-14T00:28:11.424872Z"
    },
    "collapsed": false,
    "jupyter": {
     "outputs_hidden": false
    }
   },
   "outputs": [],
   "source": [
    "df_grouped = result_dominant_teams.groupby('trip_day')[['card_trip_count', 'cash_trip_count']].sum().reset_index()\n",
    "\n",
    "day_order = ['Monday', 'Tuesday', 'Wednesday', 'Thursday', 'Friday', 'Saturday', 'Sunday']\n",
    "\n",
    "# Convert 'trip_day' to categorical data with the specified order\n",
    "df_grouped['trip_day'] = pd.Categorical(df_grouped['trip_day'], categories=day_order, ordered=True)\n",
    "\n",
    "# Sort the DataFrame by the categorical 'trip_day' column\n",
    "df_sorted = df_grouped.sort_values(by='trip_day')\n",
    "df_sorted[\"trip_day\"] = df_sorted[\"trip_day\"].astype(str)"
   ]
  },
  {
   "cell_type": "code",
   "execution_count": 23,
   "metadata": {
    "ExecuteTime": {
     "end_time": "2024-03-14T00:28:14.260542Z",
     "start_time": "2024-03-14T00:28:14.253124Z"
    },
    "collapsed": false,
    "jupyter": {
     "outputs_hidden": false
    }
   },
   "outputs": [
    {
     "data": {
      "text/html": [
       "<div>\n",
       "<style scoped>\n",
       "    .dataframe tbody tr th:only-of-type {\n",
       "        vertical-align: middle;\n",
       "    }\n",
       "\n",
       "    .dataframe tbody tr th {\n",
       "        vertical-align: top;\n",
       "    }\n",
       "\n",
       "    .dataframe thead th {\n",
       "        text-align: right;\n",
       "    }\n",
       "</style>\n",
       "<table border=\"1\" class=\"dataframe\">\n",
       "  <thead>\n",
       "    <tr style=\"text-align: right;\">\n",
       "      <th></th>\n",
       "      <th>trip_day</th>\n",
       "      <th>card_trip_count</th>\n",
       "      <th>cash_trip_count</th>\n",
       "    </tr>\n",
       "  </thead>\n",
       "  <tbody>\n",
       "    <tr>\n",
       "      <td>1</td>\n",
       "      <td>Monday</td>\n",
       "      <td>114820</td>\n",
       "      <td>87938</td>\n",
       "    </tr>\n",
       "    <tr>\n",
       "      <td>5</td>\n",
       "      <td>Tuesday</td>\n",
       "      <td>122371</td>\n",
       "      <td>89917</td>\n",
       "    </tr>\n",
       "    <tr>\n",
       "      <td>6</td>\n",
       "      <td>Wednesday</td>\n",
       "      <td>132658</td>\n",
       "      <td>97897</td>\n",
       "    </tr>\n",
       "    <tr>\n",
       "      <td>4</td>\n",
       "      <td>Thursday</td>\n",
       "      <td>135952</td>\n",
       "      <td>100902</td>\n",
       "    </tr>\n",
       "    <tr>\n",
       "      <td>0</td>\n",
       "      <td>Friday</td>\n",
       "      <td>138449</td>\n",
       "      <td>109345</td>\n",
       "    </tr>\n",
       "    <tr>\n",
       "      <td>2</td>\n",
       "      <td>Saturday</td>\n",
       "      <td>117659</td>\n",
       "      <td>100199</td>\n",
       "    </tr>\n",
       "    <tr>\n",
       "      <td>3</td>\n",
       "      <td>Sunday</td>\n",
       "      <td>94102</td>\n",
       "      <td>72587</td>\n",
       "    </tr>\n",
       "  </tbody>\n",
       "</table>\n",
       "</div>"
      ],
      "text/plain": [
       "    trip_day  card_trip_count  cash_trip_count\n",
       "1     Monday           114820            87938\n",
       "5    Tuesday           122371            89917\n",
       "6  Wednesday           132658            97897\n",
       "4   Thursday           135952           100902\n",
       "0     Friday           138449           109345\n",
       "2   Saturday           117659           100199\n",
       "3     Sunday            94102            72587"
      ]
     },
     "execution_count": 23,
     "metadata": {},
     "output_type": "execute_result"
    }
   ],
   "source": [
    "df_sorted.head(1000)"
   ]
  },
  {
   "cell_type": "code",
   "execution_count": 24,
   "metadata": {
    "ExecuteTime": {
     "end_time": "2024-03-14T00:28:16.510083Z",
     "start_time": "2024-03-14T00:28:16.239632Z"
    },
    "collapsed": false,
    "jupyter": {
     "outputs_hidden": false
    }
   },
   "outputs": [
    {
     "data": {
      "image/png": "[encoded data removed]",
      "text/plain": [
       "<Figure size 720x432 with 1 Axes>"
      ]
     },
     "metadata": {
      "needs_background": "light"
     },
     "output_type": "display_data"
    }
   ],
   "source": [
    "# Plot using Matplotlib\n",
    "plt.figure(figsize=(10, 6))\n",
    "plt.plot(df_sorted['trip_day'], df_sorted['card_trip_count'], label='Card')\n",
    "plt.plot(df_sorted['trip_day'], df_sorted['cash_trip_count'], label='Cash')\n",
    "plt.xlabel('Day of the week')\n",
    "plt.ylabel('Trip Count')\n",
    "plt.title('Payment Type by Day of Week')\n",
    "plt.legend()\n",
    "plt.show()"
   ]
  },
  {
   "cell_type": "markdown",
   "metadata": {},
   "source": [
    "#### Weekly Trip Analysis by Payment Method\n",
    "\n",
    "- Card vs. Cash: Card transactions consistently outnumber cash payments across all weekdays.\n",
    "- Peak Days: Wednesdays and Fridays see the highest total trip counts, predominantly driven by card transactions.\n",
    "\n",
    "#### Insights:\n",
    "\n",
    "- Card transactions dominate, suggesting a preference for electronic payments.\n",
    "- Operational strategies should consider weekday peaks and weekend dynamics to optimize service provision and resource allocation."
   ]
  },
  {
   "cell_type": "code",
   "execution_count": 25,
   "metadata": {
    "ExecuteTime": {
     "end_time": "2024-03-09T23:25:00.152653Z",
     "start_time": "2024-03-09T23:25:00.135841Z"
    },
    "collapsed": false,
    "jupyter": {
     "outputs_hidden": false
    }
   },
   "outputs": [
    {
     "data": {
      "text/plain": [
       "year                        int64\n",
       "month                       int64\n",
       "borough                    object\n",
       "trip_date                  object\n",
       "trip_day                   object\n",
       "trip_day_weekend_ind       object\n",
       "card_trip_count             int64\n",
       "cash_trip_count             int64\n",
       "street_hail_trip_count      int64\n",
       "dispatch_trip_count         int64\n",
       "trip_distance             float64\n",
       "trip_duration             float64\n",
       "fare_amount               float64\n",
       "dtype: object"
      ]
     },
     "execution_count": 25,
     "metadata": {},
     "output_type": "execute_result"
    }
   ],
   "source": [
    "result_dominant_teams.dtypes"
   ]
  },
  {
   "cell_type": "code",
   "execution_count": 26,
   "metadata": {
    "ExecuteTime": {
     "end_time": "2024-03-14T00:32:52.363124Z",
     "start_time": "2024-03-14T00:32:52.335003Z"
    },
    "collapsed": false,
    "jupyter": {
     "outputs_hidden": false
    }
   },
   "outputs": [],
   "source": [
    "result_dominant_teams[\"year_month\"] = result_dominant_teams[\"year\"].astype(str) + \"-\" + result_dominant_teams[\"month\"].astype(str)\n",
    "df_grouped = result_dominant_teams.groupby('year_month')[['card_trip_count', 'cash_trip_count']].sum().reset_index()\n",
    "\n",
    "month_order = ['2020-1', '2020-2', '2020-3', '2020-4', '2020-5', '2020-6', '2020-7', '2020-8', '2020-9', '2020-10', '2020-11', '2020-12', '2021-1', '2021-2', '2021-3', '2021-4', '2021-5', '2021-6', '2021-7', '2021-8']\n",
    "\n",
    "df_grouped['year_month'] = pd.Categorical(df_grouped['year_month'], categories=month_order, ordered=True)\n",
    "\n",
    "df_sorted = df_grouped.sort_values(by='year_month')\n",
    "df_sorted[\"year_month\"] = df_sorted[\"year_month\"].astype(str)\n",
    "df_sorted = df_sorted[df_sorted['year_month'] != '2021-8']"
   ]
  },
  {
   "cell_type": "code",
   "execution_count": 27,
   "metadata": {
    "ExecuteTime": {
     "end_time": "2024-03-14T00:32:53.948872Z",
     "start_time": "2024-03-14T00:32:53.940533Z"
    },
    "collapsed": false,
    "jupyter": {
     "outputs_hidden": false
    }
   },
   "outputs": [
    {
     "data": {
      "text/html": [
       "<div>\n",
       "<style scoped>\n",
       "    .dataframe tbody tr th:only-of-type {\n",
       "        vertical-align: middle;\n",
       "    }\n",
       "\n",
       "    .dataframe tbody tr th {\n",
       "        vertical-align: top;\n",
       "    }\n",
       "\n",
       "    .dataframe thead th {\n",
       "        text-align: right;\n",
       "    }\n",
       "</style>\n",
       "<table border=\"1\" class=\"dataframe\">\n",
       "  <thead>\n",
       "    <tr style=\"text-align: right;\">\n",
       "      <th></th>\n",
       "      <th>year_month</th>\n",
       "      <th>card_trip_count</th>\n",
       "      <th>cash_trip_count</th>\n",
       "    </tr>\n",
       "  </thead>\n",
       "  <tbody>\n",
       "    <tr>\n",
       "      <td>0</td>\n",
       "      <td>2020-1</td>\n",
       "      <td>184392</td>\n",
       "      <td>144996</td>\n",
       "    </tr>\n",
       "    <tr>\n",
       "      <td>4</td>\n",
       "      <td>2020-2</td>\n",
       "      <td>176532</td>\n",
       "      <td>138858</td>\n",
       "    </tr>\n",
       "    <tr>\n",
       "      <td>5</td>\n",
       "      <td>2020-3</td>\n",
       "      <td>93162</td>\n",
       "      <td>81623</td>\n",
       "    </tr>\n",
       "    <tr>\n",
       "      <td>6</td>\n",
       "      <td>2020-4</td>\n",
       "      <td>12269</td>\n",
       "      <td>11954</td>\n",
       "    </tr>\n",
       "    <tr>\n",
       "      <td>7</td>\n",
       "      <td>2020-5</td>\n",
       "      <td>15596</td>\n",
       "      <td>15355</td>\n",
       "    </tr>\n",
       "    <tr>\n",
       "      <td>8</td>\n",
       "      <td>2020-6</td>\n",
       "      <td>20305</td>\n",
       "      <td>17701</td>\n",
       "    </tr>\n",
       "    <tr>\n",
       "      <td>9</td>\n",
       "      <td>2020-7</td>\n",
       "      <td>23493</td>\n",
       "      <td>19350</td>\n",
       "    </tr>\n",
       "    <tr>\n",
       "      <td>10</td>\n",
       "      <td>2020-8</td>\n",
       "      <td>25627</td>\n",
       "      <td>20670</td>\n",
       "    </tr>\n",
       "    <tr>\n",
       "      <td>11</td>\n",
       "      <td>2020-9</td>\n",
       "      <td>27162</td>\n",
       "      <td>21014</td>\n",
       "    </tr>\n",
       "    <tr>\n",
       "      <td>1</td>\n",
       "      <td>2020-10</td>\n",
       "      <td>30009</td>\n",
       "      <td>22105</td>\n",
       "    </tr>\n",
       "    <tr>\n",
       "      <td>2</td>\n",
       "      <td>2020-11</td>\n",
       "      <td>28235</td>\n",
       "      <td>19796</td>\n",
       "    </tr>\n",
       "    <tr>\n",
       "      <td>3</td>\n",
       "      <td>2020-12</td>\n",
       "      <td>26646</td>\n",
       "      <td>19225</td>\n",
       "    </tr>\n",
       "    <tr>\n",
       "      <td>12</td>\n",
       "      <td>2021-1</td>\n",
       "      <td>24437</td>\n",
       "      <td>15680</td>\n",
       "    </tr>\n",
       "    <tr>\n",
       "      <td>13</td>\n",
       "      <td>2021-2</td>\n",
       "      <td>21898</td>\n",
       "      <td>13274</td>\n",
       "    </tr>\n",
       "    <tr>\n",
       "      <td>14</td>\n",
       "      <td>2021-3</td>\n",
       "      <td>25784</td>\n",
       "      <td>17126</td>\n",
       "    </tr>\n",
       "    <tr>\n",
       "      <td>15</td>\n",
       "      <td>2021-4</td>\n",
       "      <td>27229</td>\n",
       "      <td>18313</td>\n",
       "    </tr>\n",
       "    <tr>\n",
       "      <td>16</td>\n",
       "      <td>2021-5</td>\n",
       "      <td>30828</td>\n",
       "      <td>19301</td>\n",
       "    </tr>\n",
       "    <tr>\n",
       "      <td>17</td>\n",
       "      <td>2021-6</td>\n",
       "      <td>32429</td>\n",
       "      <td>21617</td>\n",
       "    </tr>\n",
       "    <tr>\n",
       "      <td>18</td>\n",
       "      <td>2021-7</td>\n",
       "      <td>29977</td>\n",
       "      <td>20826</td>\n",
       "    </tr>\n",
       "  </tbody>\n",
       "</table>\n",
       "</div>"
      ],
      "text/plain": [
       "   year_month  card_trip_count  cash_trip_count\n",
       "0      2020-1           184392           144996\n",
       "4      2020-2           176532           138858\n",
       "5      2020-3            93162            81623\n",
       "6      2020-4            12269            11954\n",
       "7      2020-5            15596            15355\n",
       "8      2020-6            20305            17701\n",
       "9      2020-7            23493            19350\n",
       "10     2020-8            25627            20670\n",
       "11     2020-9            27162            21014\n",
       "1     2020-10            30009            22105\n",
       "2     2020-11            28235            19796\n",
       "3     2020-12            26646            19225\n",
       "12     2021-1            24437            15680\n",
       "13     2021-2            21898            13274\n",
       "14     2021-3            25784            17126\n",
       "15     2021-4            27229            18313\n",
       "16     2021-5            30828            19301\n",
       "17     2021-6            32429            21617\n",
       "18     2021-7            29977            20826"
      ]
     },
     "execution_count": 27,
     "metadata": {},
     "output_type": "execute_result"
    }
   ],
   "source": [
    "df_sorted.head(50)"
   ]
  },
  {
   "cell_type": "code",
   "execution_count": 28,
   "metadata": {
    "ExecuteTime": {
     "end_time": "2024-03-14T00:32:54.586310Z",
     "start_time": "2024-03-14T00:32:54.359952Z"
    },
    "collapsed": false,
    "jupyter": {
     "outputs_hidden": false
    }
   },
   "outputs": [
    {
     "data": {
      "image/png": "[encoded data removed]",
      "text/plain": [
       "<Figure size 720x432 with 1 Axes>"
      ]
     },
     "metadata": {
      "needs_background": "light"
     },
     "output_type": "display_data"
    }
   ],
   "source": [
    "# Plot using Matplotlib\n",
    "plt.figure(figsize=(10, 6))\n",
    "plt.plot(df_sorted['year_month'], df_sorted['card_trip_count'], label='Card')\n",
    "plt.plot(df_sorted['year_month'], df_sorted['cash_trip_count'], label='Cash')\n",
    "plt.xlabel('Month of the year')\n",
    "plt.ylabel('Trip Count')\n",
    "plt.title('Payment Type by Month')\n",
    "plt.xticks(rotation=90)\n",
    "plt.legend()\n",
    "plt.show()"
   ]
  },
  {
   "cell_type": "markdown",
   "metadata": {},
   "source": [
    "#### Monthly Trip Analysis by Payment Method (2020-2021)\n",
    "\n",
    "- Card vs. Cash: Throughout 2020 and 2021, card transactions consistently exceeded cash payments.\n",
    "- Yearly Trends: Total trip counts sharply declined from April 2020 to July 2021, reflecting the significant influence of COVID-19 on travel behavior and mobility patterns during this period.\n",
    "\n",
    "#### Insights:\n",
    "\n",
    "- The dataset reflects fluctuations in consumer behavior over the two-year period, indicating potential factors influencing payment preferences.\n",
    "- Understanding these trends can aid in forecasting demand and tailoring marketing strategies to optimize revenue."
   ]
  },
  {
   "cell_type": "code",
   "execution_count": 29,
   "metadata": {
    "ExecuteTime": {
     "end_time": "2024-03-14T00:38:24.669505Z",
     "start_time": "2024-03-14T00:38:24.443995Z"
    },
    "collapsed": false,
    "jupyter": {
     "outputs_hidden": false
    }
   },
   "outputs": [
    {
     "data": {
      "image/png": "[encoded data removed]",
      "text/plain": [
       "<Figure size 432x288 with 1 Axes>"
      ]
     },
     "metadata": {
      "needs_background": "light"
     },
     "output_type": "display_data"
    }
   ],
   "source": [
    "df_grouped = result_dominant_teams.groupby('borough')[['card_trip_count', 'cash_trip_count']].sum().reset_index()\n",
    "df_grouped = df_grouped.sort_values(by='card_trip_count', ascending=False)\n",
    "# Get boroughs and payment types\n",
    "boroughs = df_grouped.borough.unique()\n",
    "payment_types = df_grouped.columns\n",
    "\n",
    "# Get trip counts for each payment type\n",
    "card_counts = df_grouped['card_trip_count']\n",
    "cash_counts = df_grouped['cash_trip_count']\n",
    "\n",
    "# Plotting\n",
    "fig, ax = plt.subplots()\n",
    "bar_width = 0.35\n",
    "index = range(len(boroughs))\n",
    "\n",
    "# Plot bars for card trip counts\n",
    "bar1 = ax.bar(index, card_counts, bar_width, label='Card')\n",
    "\n",
    "# Plot bars for cash trip counts\n",
    "bar2 = ax.bar([i + bar_width for i in index], cash_counts, bar_width, label='Cash')\n",
    "\n",
    "ax.set_xlabel('Borough')\n",
    "ax.set_ylabel('Trip Count')\n",
    "ax.set_title('Payment Type by Borough')\n",
    "ax.set_xticks([i + bar_width / 2 for i in index])\n",
    "ax.set_xticklabels(boroughs)\n",
    "ax.set_xticklabels(boroughs, rotation=90)\n",
    "ax.legend()\n",
    "\n",
    "plt.show()"
   ]
  },
  {
   "cell_type": "markdown",
   "metadata": {},
   "source": [
    "#### Borough-wise Trip Analysis by Payment Method:\n",
    "\n",
    "- Card vs. Cash: Card transactions generally surpass cash payments across all boroughs.\n",
    "- Top Performers: Manhattan and Brooklyn exhibit the highest total trip counts, with card transactions dominating.\n",
    "- Minor Contributors: Other boroughs, such as Queens and the Bronx, also demonstrate substantial trip activity, predominantly via card payments.\n",
    "\n",
    "#### Insights:\n",
    "\n",
    "- Manhattan emerges as the primary hub for taxi trips, with both card and cash transactions significantly contributing to its high trip counts.\n",
    "- Brooklyn follows closely behind, indicating a robust demand for taxi services in this borough as well."
   ]
  },
  {
   "cell_type": "markdown",
   "metadata": {},
   "source": [
    "### Car Demand Report"
   ]
  },
  {
   "cell_type": "code",
   "execution_count": 30,
   "metadata": {
    "ExecuteTime": {
     "end_time": "2024-03-10T00:16:46.255794Z",
     "start_time": "2024-03-10T00:16:46.250049Z"
    },
    "collapsed": false,
    "jupyter": {
     "outputs_hidden": false
    }
   },
   "outputs": [],
   "source": [
    "result_dominant_teams[\"trip_count\"] = result_dominant_teams[\"card_trip_count\"] + result_dominant_teams[\"cash_trip_count\"]"
   ]
  },
  {
   "cell_type": "code",
   "execution_count": 31,
   "metadata": {
    "ExecuteTime": {
     "end_time": "2024-03-14T00:40:34.636334Z",
     "start_time": "2024-03-14T00:40:34.484166Z"
    },
    "collapsed": false,
    "jupyter": {
     "outputs_hidden": false
    }
   },
   "outputs": [
    {
     "data": {
      "image/png": "[encoded data removed]",
      "text/plain": [
       "<Figure size 432x288 with 1 Axes>"
      ]
     },
     "metadata": {
      "needs_background": "light"
     },
     "output_type": "display_data"
    }
   ],
   "source": [
    "df_grouped = result_dominant_teams.groupby('trip_day')[['trip_count']].sum().reset_index()\n",
    "\n",
    "day_order = ['Monday', 'Tuesday', 'Wednesday', 'Thursday', 'Friday', 'Saturday', 'Sunday']\n",
    "\n",
    "# Convert 'trip_day' to categorical data with the specified order\n",
    "df_grouped['trip_day'] = pd.Categorical(df_grouped['trip_day'], categories=day_order, ordered=True)\n",
    "\n",
    "# Sort the DataFrame by the categorical 'trip_day' column\n",
    "df_sorted = df_grouped.sort_values(by='trip_day')\n",
    "df_sorted[\"trip_day\"] = df_sorted[\"trip_day\"].astype(str)\n",
    "\n",
    "# Plot using Matplotlib\n",
    "plt.bar(df_sorted['trip_day'], df_sorted['trip_count'])\n",
    "plt.xlabel('Trip Day')\n",
    "plt.ylabel('Trip Count')\n",
    "plt.title('Demand by Day of Week')\n",
    "plt.xticks(rotation=45)  # Rotate x-axis labels for better readability\n",
    "plt.show()"
   ]
  },
  {
   "cell_type": "markdown",
   "metadata": {},
   "source": [
    "#### Weekly Trip Counts:\n",
    "\n",
    "- Peak Activity: Thursdays and Fridays exhibit the highest trip counts, with 236,854 and 247,794 trips respectively.\n",
    "- Weekend Patterns: Trip counts decrease notably on Sundays, with 166,689 trips recorded, marking the lowest activity of the week.\n",
    "- Consistent Trends: Trip counts generally increase from Monday to Friday, peaking towards the end of the workweek.\n",
    "\n",
    "#### Insights:\n",
    "\n",
    "- Understanding weekly trip patterns can aid in optimizing service provision and resource allocation to meet fluctuating demand throughout the week."
   ]
  },
  {
   "cell_type": "code",
   "execution_count": 32,
   "metadata": {
    "ExecuteTime": {
     "end_time": "2024-03-14T00:43:20.464803Z",
     "start_time": "2024-03-14T00:43:20.246457Z"
    },
    "collapsed": false,
    "jupyter": {
     "outputs_hidden": false
    }
   },
   "outputs": [
    {
     "data": {
      "image/png": "[encoded data removed]",
      "text/plain": [
       "<Figure size 432x288 with 1 Axes>"
      ]
     },
     "metadata": {
      "needs_background": "light"
     },
     "output_type": "display_data"
    }
   ],
   "source": [
    "df_grouped = result_dominant_teams.groupby('borough')[['trip_count']].sum().reset_index()\n",
    "\n",
    "# Sort the DataFrame by the categorical 'trip_count' column\n",
    "df_sorted = df_grouped.sort_values(by='trip_count', ascending=False)\n",
    "\n",
    "# Plot using Matplotlib\n",
    "plt.bar(df_sorted['borough'], df_sorted['trip_count'])\n",
    "plt.xlabel('Borough')\n",
    "plt.ylabel('Trip Count')\n",
    "plt.title('Demand by Borough')\n",
    "plt.xticks(rotation=45)  # Rotate x-axis labels for better readability\n",
    "plt.show()"
   ]
  },
  {
   "cell_type": "code",
   "execution_count": 33,
   "metadata": {
    "ExecuteTime": {
     "end_time": "2024-03-14T00:43:30.156586Z",
     "start_time": "2024-03-14T00:43:30.147965Z"
    },
    "collapsed": false,
    "jupyter": {
     "outputs_hidden": false
    }
   },
   "outputs": [
    {
     "data": {
      "text/html": [
       "<div>\n",
       "<style scoped>\n",
       "    .dataframe tbody tr th:only-of-type {\n",
       "        vertical-align: middle;\n",
       "    }\n",
       "\n",
       "    .dataframe tbody tr th {\n",
       "        vertical-align: top;\n",
       "    }\n",
       "\n",
       "    .dataframe thead th {\n",
       "        text-align: right;\n",
       "    }\n",
       "</style>\n",
       "<table border=\"1\" class=\"dataframe\">\n",
       "  <thead>\n",
       "    <tr style=\"text-align: right;\">\n",
       "      <th></th>\n",
       "      <th>borough</th>\n",
       "      <th>trip_count</th>\n",
       "    </tr>\n",
       "  </thead>\n",
       "  <tbody>\n",
       "    <tr>\n",
       "      <td>3</td>\n",
       "      <td>Manhattan</td>\n",
       "      <td>766980</td>\n",
       "    </tr>\n",
       "    <tr>\n",
       "      <td>4</td>\n",
       "      <td>Queens</td>\n",
       "      <td>357156</td>\n",
       "    </tr>\n",
       "    <tr>\n",
       "      <td>1</td>\n",
       "      <td>Brooklyn</td>\n",
       "      <td>307478</td>\n",
       "    </tr>\n",
       "    <tr>\n",
       "      <td>0</td>\n",
       "      <td>Bronx</td>\n",
       "      <td>75908</td>\n",
       "    </tr>\n",
       "    <tr>\n",
       "      <td>6</td>\n",
       "      <td>Unknown</td>\n",
       "      <td>5229</td>\n",
       "    </tr>\n",
       "    <tr>\n",
       "      <td>5</td>\n",
       "      <td>Staten Island</td>\n",
       "      <td>2013</td>\n",
       "    </tr>\n",
       "    <tr>\n",
       "      <td>2</td>\n",
       "      <td>EWR</td>\n",
       "      <td>32</td>\n",
       "    </tr>\n",
       "  </tbody>\n",
       "</table>\n",
       "</div>"
      ],
      "text/plain": [
       "         borough  trip_count\n",
       "3      Manhattan      766980\n",
       "4         Queens      357156\n",
       "1       Brooklyn      307478\n",
       "0          Bronx       75908\n",
       "6        Unknown        5229\n",
       "5  Staten Island        2013\n",
       "2            EWR          32"
      ]
     },
     "execution_count": 33,
     "metadata": {},
     "output_type": "execute_result"
    }
   ],
   "source": [
    "df_sorted.head(100)"
   ]
  },
  {
   "cell_type": "markdown",
   "metadata": {},
   "source": [
    "#### Borough-wise Trip Counts:\n",
    "\n",
    "- Manhattan Dominance: Manhattan leads in trip counts with 766,980 trips, indicating its status as a major transportation hub.\n",
    "- Other Boroughs: Queens follows with 357,156 trips, while Brooklyn and the Bronx also contribute significantly with 307,478 and 75,908 trips respectively.\n",
    "- Minor Contributors: Staten Island and EWR boroughs register lower trip counts of 2,013 and 32 trips respectively.\n",
    "- Missing Data: Anomalously, there are 5,229 trips not attributed to any specific borough, indicative of missing or unrecorded data within the dataset\n",
    "\n",
    "#### Insights:\n",
    "\n",
    "- Understanding borough-wise trip distribution aids in optimizing transportation services and resource allocation across different areas."
   ]
  },
  {
   "cell_type": "code",
   "execution_count": 34,
   "metadata": {
    "ExecuteTime": {
     "end_time": "2024-03-14T00:46:29.251455Z",
     "start_time": "2024-03-14T00:46:29.058283Z"
    },
    "collapsed": false,
    "jupyter": {
     "outputs_hidden": false
    }
   },
   "outputs": [
    {
     "data": {
      "image/png": "[encoded data removed]",
      "text/plain": [
       "<Figure size 432x288 with 1 Axes>"
      ]
     },
     "metadata": {
      "needs_background": "light"
     },
     "output_type": "display_data"
    }
   ],
   "source": [
    "df_grouped = result_dominant_teams.groupby('year_month')[['trip_count']].sum().reset_index()\n",
    "\n",
    "month_order = ['2020-1', '2020-2', '2020-3', '2020-4', '2020-5', '2020-6', '2020-7', '2020-8', '2020-9', '2020-10', '2020-11', '2020-12', '2021-1', '2021-2', '2021-3', '2021-4', '2021-5', '2021-6', '2021-7', '2021-8']\n",
    "df_grouped['year_month'] = pd.Categorical(df_grouped['year_month'], categories=month_order, ordered=True)\n",
    "\n",
    "# Sort the DataFrame by the categorical 'trip_day' column\n",
    "df_sorted = df_grouped.sort_values(by='year_month')\n",
    "df_sorted[\"year_month\"] = df_sorted[\"year_month\"].astype(str)\n",
    "df_sorted = df_sorted[df_sorted['year_month'] != '2021-8']\n",
    "\n",
    "# Plot using Matplotlib\n",
    "plt.plot(df_sorted['year_month'], df_sorted['trip_count'], linestyle='-')\n",
    "plt.xlabel('Month')\n",
    "plt.ylabel('Trip Count')\n",
    "plt.title('Demand by Month')\n",
    "plt.xticks(rotation=90)  # Rotate x-axis labels for better readability\n",
    "plt.grid(True)\n",
    "plt.show()"
   ]
  },
  {
   "cell_type": "markdown",
   "metadata": {},
   "source": [
    "#### Monthly Trip Counts Analysis (2020-2021):\n",
    "\n",
    "- Overall Trend: Monthly trip counts fluctuate over the period, peaking at 329388 trips in Jan 2020 and dipping to 24,223 trips in April 2020.\n",
    "- COVID-19 Impact: The significant drop in trip counts from March to June 2020 coincides with the onset of the COVID-19 pandemic, while recovery is observed in subsequent months.\n",
    "- Steady Recovery: Trip counts gradually increase post-pandemic, with June 2021 showing a resurgence in activity.\n",
    "\n",
    "#### Insights:\n",
    "\n",
    "- Analyzing monthly trip trends provides insights into the impact of external factors such as the pandemic on transportation demand and recovery patterns over time."
   ]
  },
  {
   "cell_type": "markdown",
   "metadata": {},
   "source": [
    "#### Conclusion\n",
    "\n",
    "- ##### Payment Preference: Electronic payments, particularly card transactions, dominate over cash payments across all analyzed dimensions.\n",
    "- ##### Temporal Trends: Peak activity occurs on Wednesdays and Fridays, while Sundays witness the lowest trip counts. Weekly and monthly fluctuations reflect both regular patterns and the impact of external factors like the COVID-19 pandemic.\n",
    "- ##### Borough Dynamics: Manhattan emerges as the primary hub for taxi trips, followed by Brooklyn, with significant activity in both card and cash transactions.\n",
    "- ##### Insights for Operations: Understanding payment preferences, temporal patterns, and borough-wise dynamics facilitates optimized service provision, resource allocation, and marketing strategies.\n",
    "- ##### Recovery Post-Pandemic: Monthly trip counts show a steady recovery post-COVID-19, indicating resilience in transportation demand over time."
   ]
  },
  {
   "cell_type": "code",
   "execution_count": null,
   "metadata": {},
   "outputs": [],
   "source": []
  }
 ],
 "metadata": {
  "kernelspec": {
   "display_name": "Python 3",
   "language": "python",
   "name": "python3"
  },
  "language_info": {
   "codemirror_mode": {
    "name": "ipython",
    "version": 3
   },
   "file_extension": ".py",
   "mimetype": "text/x-python",
   "name": "python",
   "nbconvert_exporter": "python",
   "pygments_lexer": "ipython3",
   "version": "3.7.4"
  }
 },
 "nbformat": 4,
 "nbformat_minor": 5
}
